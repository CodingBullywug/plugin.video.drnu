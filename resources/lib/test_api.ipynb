{
 "cells": [
  {
   "cell_type": "code",
   "execution_count": 3,
   "id": "7c212a78-ffcd-4c21-bbe9-8212cf1667fd",
   "metadata": {},
   "outputs": [],
   "source": [
    "import json\n",
    "import tvapi\n",
    "from pathlib import Path\n",
    "import sys\n",
    "import time\n",
    "\n",
    "cachepath = Path('.').resolve()\n",
    "\n",
    "\n",
    "def tr(id, da=True):\n",
    "    msgid = str(id)\n",
    "    msgstr = str(id)\n",
    "\n",
    "    if id == 30506:\n",
    "        msgid = \"Hard-of-hearing\"\n",
    "        msgstr = \"For hørehæmmede\"\n",
    "\n",
    "    if id == 30507:\n",
    "        msgid = \"Subtitles\"\n",
    "        msgstr = \"Undertekster\"\n",
    "\n",
    "    if id == 30508:\n",
    "        msgid = \"empty\"\n",
    "        msgstr = \"Ingen undertekster\"\n",
    "\n",
    "    if da:\n",
    "        return msgstr\n",
    "    else:\n",
    "        return msgid\n",
    "\n",
    "\n",
    "api = tvapi.Api(cachepath, tr)\n",
    "api2 = tvapi.NewApi(cachepath, tr)"
   ]
  },
  {
   "cell_type": "code",
   "execution_count": 15,
   "id": "2043c94f-0c28-420f-b388-6445054724e2",
   "metadata": {},
   "outputs": [
    {
     "data": {
      "text/plain": [
       "18027"
      ]
     },
     "execution_count": 15,
     "metadata": {},
     "output_type": "execute_result"
    }
   ],
   "source": [
    "js = api2.get_programcard(\"/liste/177422\")\n",
    "Path('js4.json').write_text(json.dumps(js, indent=2))\n",
    "#js = api2.get_programcard(\"/liste/drtv-stoerste-programmer-friday-0600_156512\")\n",
    "#Path('js2.json').write_text(json.dumps(js, indent=2))\n",
    "\n",
    "\n",
    "#api2.get_home()"
   ]
  },
  {
   "cell_type": "code",
   "execution_count": 33,
   "id": "e36f4706-599c-46b3-b350-e73571d02cb3",
   "metadata": {},
   "outputs": [
    {
     "data": {
      "text/plain": [
       "{'accessService': 'StandardVideo',\n",
       " 'channels': 2,\n",
       " 'complianceProfile': 'drtv-avc-high, 41',\n",
       " 'containerFormat': 'FMP4',\n",
       " 'deliveryType': 'Stream',\n",
       " 'drm': 'None',\n",
       " 'format': 'video/hls',\n",
       " 'resolution': 'HD-1080',\n",
       " 'height': 0,\n",
       " 'isStreamLive': False,\n",
       " 'language': 'da',\n",
       " 'name': 'Video Resource',\n",
       " 'subtitles': [{'format': 'text/vtt;charset=utf-8',\n",
       "   'isEmbedded': True,\n",
       "   'isHardSubs': False,\n",
       "   'language': 'DanishLanguageSubtitles',\n",
       "   'link': 'https://drod24h.akamaized.net/all/clear/none/fc/624c53deaa5a6111bc8159fc/00952230060/subtitles/HardOfHearing-19618940-0ac76011-a92d-41b4-a319-606244aca67f.vtt'}],\n",
       " 'timeCodes': [],\n",
       " 'url': 'https://drod24h.akamaized.net/all/clear/none/fc/624c53deaa5a6111bc8159fc/00952230060/stream_fmp4/master_manifest.m3u8',\n",
       " 'width': 0}"
      ]
     },
     "metadata": {},
     "output_type": "display_data"
    },
    {
     "ename": "ApiException",
     "evalue": "{\"code\":8009,\"message\":\"Ingen filer\"}",
     "output_type": "error",
     "traceback": [
      "\u001b[0;31m---------------------------------------------------------------------------\u001b[0m",
      "\u001b[0;31mApiException\u001b[0m                              Traceback (most recent call last)",
      "Input \u001b[0;32mIn [33]\u001b[0m, in \u001b[0;36m<cell line: 17>\u001b[0;34m()\u001b[0m\n\u001b[1;32m     12\u001b[0m             \u001b[38;5;28mprint\u001b[39m(playlist\u001b[38;5;241m.\u001b[39mstream_info\u001b[38;5;241m.\u001b[39mresolution[\u001b[38;5;241m1\u001b[39m], playlist\u001b[38;5;241m.\u001b[39muri)\n\u001b[1;32m     13\u001b[0m \u001b[38;5;66;03m#            if playlist.stream_info.resolution[1] == 720:\u001b[39;00m\n\u001b[1;32m     14\u001b[0m \u001b[38;5;66;03m#                url = r.base_uri + playlist.uri\u001b[39;00m\n\u001b[1;32m     15\u001b[0m \u001b[38;5;66;03m#                url = url.replace('.m3u8', '.mp4')\u001b[39;00m\n\u001b[1;32m     16\u001b[0m \u001b[38;5;66;03m#getVideoUrl(296618)\u001b[39;00m\n\u001b[0;32m---> 17\u001b[0m \u001b[43mapi2\u001b[49m\u001b[38;5;241;43m.\u001b[39;49m\u001b[43mget_stream\u001b[49m\u001b[43m(\u001b[49m\u001b[38;5;241;43m304337\u001b[39;49m\u001b[43m)\u001b[49m\n",
      "File \u001b[0;32m~/repos/plugin.video.drnu/resources/lib/tvapi.py:168\u001b[0m, in \u001b[0;36mget_stream\u001b[0;34m(self, id)\u001b[0m\n\u001b[1;32m    165\u001b[0m stream \u001b[38;5;241m=\u001b[39m \u001b[38;5;28mself\u001b[39m\u001b[38;5;241m.\u001b[39mget_stream(\u001b[38;5;28mid\u001b[39m)\n\u001b[1;32m    167\u001b[0m url \u001b[38;5;241m=\u001b[39m stream[\u001b[38;5;124m'\u001b[39m\u001b[38;5;124murl\u001b[39m\u001b[38;5;124m'\u001b[39m]\n\u001b[0;32m--> 168\u001b[0m r \u001b[38;5;241m=\u001b[39m m3u8\u001b[38;5;241m.\u001b[39mload(url)\n\u001b[1;32m    169\u001b[0m \u001b[38;5;28;01mif\u001b[39;00m r\u001b[38;5;241m.\u001b[39mis_variant:\n\u001b[1;32m    170\u001b[0m     \u001b[38;5;28;01mfor\u001b[39;00m playlist \u001b[38;5;129;01min\u001b[39;00m r\u001b[38;5;241m.\u001b[39mplaylists:\n",
      "\u001b[0;31mApiException\u001b[0m: {\"code\":8009,\"message\":\"Ingen filer\"}"
     ]
    }
   ],
   "source": [
    "#api2.get_programcard('/liste/drtv-stoerste-programmer-tuesday-06_00_147626')\n",
    "\n",
    "display(api2.get_stream(306556))\n",
    "#import m3u8\n",
    "def getVideoUrl(id):\n",
    "    stream = api2.get_stream(id)\n",
    "\n",
    "    url = stream['url']\n",
    "    r = m3u8.load(url)\n",
    "    print(r.base_uri)\n",
    "    if r.is_variant:\n",
    "        for playlist in r.playlists:\n",
    "            print(playlist.stream_info.resolution[1], playlist.uri)\n",
    "#            if playlist.stream_info.resolution[1] == 720:\n",
    "#                url = r.base_uri + playlist.uri\n",
    "#                url = url.replace('.m3u8', '.mp4')\n",
    "#getVideoUrl(296618)\n",
    "api2.get_stream(304337)\n",
    "#api2.get_programcard('list/296618')"
   ]
  },
  {
   "cell_type": "code",
   "execution_count": 35,
   "id": "eb93cf10-36b5-4808-ae8a-8fd88fdb5962",
   "metadata": {
    "tags": []
   },
   "outputs": [
    {
     "data": {
      "text/plain": [
       "{'accessService': 'StandardVideo',\n",
       " 'channels': 2,\n",
       " 'complianceProfile': 'drtv-avc-high, 41',\n",
       " 'containerFormat': 'FMP4',\n",
       " 'deliveryType': 'Stream',\n",
       " 'drm': 'None',\n",
       " 'format': 'video/hls',\n",
       " 'resolution': 'HD-1080',\n",
       " 'height': 0,\n",
       " 'isStreamLive': False,\n",
       " 'language': 'da',\n",
       " 'name': 'Video Resource',\n",
       " 'subtitles': [{'format': 'text/vtt;charset=utf-8',\n",
       "   'isEmbedded': True,\n",
       "   'isHardSubs': False,\n",
       "   'language': 'DanishLanguageSubtitles',\n",
       "   'link': 'https://drod22d.akamaized.net/all/clear/none/a2/624bc2a6aa5a6112bc19efa2/00961600020/subtitles/HardOfHearing-16637434-c41952ff-81b1-475c-8646-e3a2319969c9.vtt'}],\n",
       " 'timeCodes': [],\n",
       " 'url': 'https://drod22d.akamaized.net/dk/clear/none/a2/624bc2a6aa5a6112bc19efa2/00961600020/stream_fmp4/master_manifest.m3u8',\n",
       " 'width': 0}"
      ]
     },
     "execution_count": 35,
     "metadata": {},
     "output_type": "execute_result"
    }
   ],
   "source": [
    "#js['entries'][0]['list']#[0]\n",
    "#api2.get_stream(309426)\n",
    "api2.get_programcard"
   ]
  },
  {
   "cell_type": "code",
   "execution_count": null,
   "id": "4b0a33a3-ae03-4c3c-8007-ab6c4be26a93",
   "metadata": {},
   "outputs": [],
   "source": []
  }
 ],
 "metadata": {
  "kernelspec": {
   "display_name": "Python 3 (ipykernel)",
   "language": "python",
   "name": "python3"
  },
  "language_info": {
   "codemirror_mode": {
    "name": "ipython",
    "version": 3
   },
   "file_extension": ".py",
   "mimetype": "text/x-python",
   "name": "python",
   "nbconvert_exporter": "python",
   "pygments_lexer": "ipython3",
   "version": "3.10.4"
  }
 },
 "nbformat": 4,
 "nbformat_minor": 5
}
